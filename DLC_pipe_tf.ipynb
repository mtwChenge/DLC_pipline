{
 "cells": [
  {
   "cell_type": "code",
   "execution_count": 17,
   "id": "cfa4d105-c47b-45d6-a293-dbe94706f80d",
   "metadata": {},
   "outputs": [],
   "source": [
    "#####202503030\n",
    "#####Mathew\n",
    "#####記得先在本地跑這個，前面的是影片，如果是資料夾會變成scp -r\n",
    "#####scp /Users/linlab/Documents/Matthew/video/20231122_153144_603_20231122153143_new.mp4 linlab@120.126.45.88:/home/linlab/Documents/Matthew/DLC/video"
   ]
  },
  {
   "cell_type": "code",
   "execution_count": 2,
   "id": "dd9a1e2a-47b5-429a-b8c4-fb4c94e9d267",
   "metadata": {
    "scrolled": true
   },
   "outputs": [
    {
     "name": "stdout",
     "output_type": "stream",
     "text": [
      "['20220525_110000_675_20220525120723_new', '20240103_110000_698_20240103123351_new', '20240315_110000_705_20240315132408_new'] ['20220525_110000_675_20220525120723.avi', '20240103_110000_698_20240103123351.avi', '20240315_110000_705_20240315132408.avi']\n",
      "慘\n"
     ]
    },
    {
     "name": "stderr",
     "output_type": "stream",
     "text": [
      "ffmpeg version 5.1.2 Copyright (c) 2000-2022 the FFmpeg developers\n",
      "  built with gcc 11.3.0 (conda-forge gcc 11.3.0-19)\n",
      "  configuration: --prefix=/home/linlab/miniconda3/envs/DLC_tf --cc=/home/conda/feedstock_root/build_artifacts/ffmpeg_1674566204550/_build_env/bin/x86_64-conda-linux-gnu-cc --cxx=/home/conda/feedstock_root/build_artifacts/ffmpeg_1674566204550/_build_env/bin/x86_64-conda-linux-gnu-c++ --nm=/home/conda/feedstock_root/build_artifacts/ffmpeg_1674566204550/_build_env/bin/x86_64-conda-linux-gnu-nm --ar=/home/conda/feedstock_root/build_artifacts/ffmpeg_1674566204550/_build_env/bin/x86_64-conda-linux-gnu-ar --disable-doc --disable-openssl --enable-demuxer=dash --enable-hardcoded-tables --enable-libfreetype --enable-libfontconfig --enable-libopenh264 --enable-gnutls --enable-libmp3lame --enable-libvpx --enable-pthreads --enable-vaapi --enable-gpl --enable-libx264 --enable-libx265 --enable-libaom --enable-libsvtav1 --enable-libxml2 --enable-pic --enable-shared --disable-static --enable-version3 --enable-zlib --enable-libopus --pkg-config=/home/conda/feedstock_root/build_artifacts/ffmpeg_1674566204550/_build_env/bin/pkg-config\n",
      "  libavutil      57. 28.100 / 57. 28.100\n",
      "  libavcodec     59. 37.100 / 59. 37.100\n",
      "  libavformat    59. 27.100 / 59. 27.100\n",
      "  libavdevice    59.  7.100 / 59.  7.100\n",
      "  libavfilter     8. 44.100 /  8. 44.100\n",
      "  libswscale      6.  7.100 /  6.  7.100\n",
      "  libswresample   4.  7.100 /  4.  7.100\n",
      "  libpostproc    56.  6.100 / 56.  6.100\n",
      "ffmpeg version 5.1.2 Copyright (c) 2000-2022 the FFmpeg developers\n",
      "  built with gcc 11.3.0 (conda-forge gcc 11.3.0-19)\n",
      "  configuration: --prefix=/home/linlab/miniconda3/envs/DLC_tf --cc=/home/conda/feedstock_root/build_artifacts/ffmpeg_1674566204550/_build_env/bin/x86_64-conda-linux-gnu-cc --cxx=/home/conda/feedstock_root/build_artifacts/ffmpeg_1674566204550/_build_env/bin/x86_64-conda-linux-gnu-c++ --nm=/home/conda/feedstock_root/build_artifacts/ffmpeg_1674566204550/_build_env/bin/x86_64-conda-linux-gnu-nm --ar=/home/conda/feedstock_root/build_artifacts/ffmpeg_1674566204550/_build_env/bin/x86_64-conda-linux-gnu-ar --disable-doc --disable-openssl --enable-demuxer=dash --enable-hardcoded-tables --enable-libfreetype --enable-libfontconfig --enable-libopenh264 --enable-gnutls --enable-libmp3lame --enable-libvpx --enable-pthreads --enable-vaapi --enable-gpl --enable-libx264 --enable-libx265 --enable-libaom --enable-libsvtav1 --enable-libxml2 --enable-pic --enable-shared --disable-static --enable-version3 --enable-zlib --enable-libopus --pkg-config=/home/conda/feedstock_root/build_artifacts/ffmpeg_1674566204550/_build_env/bin/pkg-config\n",
      "  libavutil      57. 28.100 / 57. 28.100\n",
      "  libavcodec     59. 37.100 / 59. 37.100\n",
      "  libavformat    59. 27.100 / 59. 27.100\n",
      "  libavdevice    59.  7.100 / 59.  7.100\n",
      "  libavfilter     8. 44.100 /  8. 44.100\n",
      "  libswscale      6.  7.100 /  6.  7.100\n",
      "  libswresample   4.  7.100 /  4.  7.100\n",
      "  libpostproc    56.  6.100 / 56.  6.100\n",
      "ffmpeg version 5.1.2 Copyright (c) 2000-2022 the FFmpeg developers\n",
      "  built with gcc 11.3.0 (conda-forge gcc 11.3.0-19)\n",
      "  configuration: --prefix=/home/linlab/miniconda3/envs/DLC_tf --cc=/home/conda/feedstock_root/build_artifacts/ffmpeg_1674566204550/_build_env/bin/x86_64-conda-linux-gnu-cc --cxx=/home/conda/feedstock_root/build_artifacts/ffmpeg_1674566204550/_build_env/bin/x86_64-conda-linux-gnu-c++ --nm=/home/conda/feedstock_root/build_artifacts/ffmpeg_1674566204550/_build_env/bin/x86_64-conda-linux-gnu-nm --ar=/home/conda/feedstock_root/build_artifacts/ffmpeg_1674566204550/_build_env/bin/x86_64-conda-linux-gnu-ar --disable-doc --disable-openssl --enable-demuxer=dash --enable-hardcoded-tables --enable-libfreetype --enable-libfontconfig --enable-libopenh264 --enable-gnutls --enable-libmp3lame --enable-libvpx --enable-pthreads --enable-vaapi --enable-gpl --enable-libx264 --enable-libx265 --enable-libaom --enable-libsvtav1 --enable-libxml2 --enable-pic --enable-shared --disable-static --enable-version3 --enable-zlib --enable-libopus --pkg-config=/home/conda/feedstock_root/build_artifacts/ffmpeg_1674566204550/_build_env/bin/pkg-config\n",
      "  libavutil      57. 28.100 / 57. 28.100\n",
      "  libavcodec     59. 37.100 / 59. 37.100\n",
      "  libavformat    59. 27.100 / 59. 27.100\n",
      "  libavdevice    59.  7.100 / 59.  7.100\n",
      "  libavfilter     8. 44.100 /  8. 44.100\n",
      "  libswscale      6.  7.100 /  6.  7.100\n",
      "  libswresample   4.  7.100 /  4.  7.100\n",
      "  libpostproc    56.  6.100 / 56.  6.100\n",
      "Guessed Channel Layout for Input Stream #0.1 : mono\n",
      "Input #0, avi, from '20220525_110000_675_20220525120723.avi':\n",
      "  Duration: N/A, start: 0.000000, bitrate: N/A\n",
      "  Stream #0:0: Video: h264 (High) (H264 / 0x34363248), yuv420p(progressive), 928x480, 29.97 fps, 29.97 tbr, 29.97 tbn\n",
      "  Stream #0:1: Audio: pcm_s16le ([1][0][0][0] / 0x0001), 8000 Hz, mono, s16, 128 kb/s\n",
      "Stream mapping:\n",
      "  Stream #0:0 -> #0:0 (h264 (native) -> h264 (libx264))\n",
      "  Stream #0:1 -> #0:1 (pcm_s16le (native) -> aac (native))\n",
      "Press [q] to stop, [?] for help\n",
      "Guessed Channel Layout for Input Stream #0.1 : mono\n",
      "Input #0, avi, from '20240103_110000_698_20240103123351.avi':\n",
      "  Duration: 00:49:26.96, start: 0.000000, bitrate: 1923 kb/s\n",
      "  Stream #0:0: Video: h264 (High) (H264 / 0x34363248), yuv420p(progressive), 928x480, 1785 kb/s, 29.97 fps, 29.97 tbr, 29.97 tbn\n",
      "  Stream #0:1: Audio: pcm_s16le ([1][0][0][0] / 0x0001), 8000 Hz, mono, s16, 128 kb/s\n",
      "Guessed Channel Layout for Input Stream #0.1 : mono\n",
      "Input #0, avi, from '20240315_110000_705_20240315132408.avi':\n",
      "  Duration: 00:35:46.98, start: 0.000000, bitrate: 1626 kb/s\n",
      "  Stream #0:0: Video: h264 (High) (H264 / 0x34363248), yuv420p(progressive), 928x480, 1487 kb/s, 29.97 fps, 29.97 tbr, 29.97 tbn\n",
      "  Stream #0:1: Audio: pcm_s16le ([1][0][0][0] / 0x0001), 8000 Hz, mono, s16, 128 kb/s\n",
      "Stream mapping:\n",
      "  Stream #0:0 -> #0:0 (h264 (native) -> h264 (libx264))\n",
      "  Stream #0:1 -> #0:1 (pcm_s16le (native) -> aac (native))\n",
      "Press [q] to stop, [?] for help\n",
      "[aac @ 0x55f9994b5640] Too many bits 8832.000000 > 6144 per frame requested, clamping to max\n",
      "Stream mapping:\n",
      "  Stream #0:0 -> #0:0 (h264 (native) -> h264 (libx264))\n",
      "  Stream #0:1 -> #0:1 (pcm_s16le (native) -> aac (native))\n",
      "Press [q] to stop, [?] for help\n",
      "[libx264 @ 0x55875b179380] using cpu capabilities: MMX2 SSE2Fast SSSE3 SSE4.2 AVX FMA3 BMI2 AVX2 AVX512\n",
      "[aac @ 0x564c83bcd400] Too many bits 8832.000000 > 6144 per frame requested, clamping to max\n",
      "[libx264 @ 0x55875b179380] profile High, level 3.1, 4:2:0, 8-bit\n",
      "[libx264 @ 0x55875b179380] 264 - core 164 r3095 baee400 - H.264/MPEG-4 AVC codec - Copyleft 2003-2022 - http://www.videolan.org/x264.html - options: cabac=1 ref=3 deblock=1:0:0 analyse=0x3:0x113 me=hex subme=7 psy=1 psy_rd=1.00:0.00 mixed_ref=1 me_range=16 chroma_me=1 trellis=1 8x8dct=1 cqm=0 deadzone=21,11 fast_pskip=1 chroma_qp_offset=-2 threads=15 lookahead_threads=2 sliced_threads=0 nr=0 decimate=1 interlaced=0 bluray_compat=0 constrained_intra=0 bframes=3 b_pyramid=2 b_adapt=1 b_bias=0 direct=1 weightb=1 open_gop=0 weightp=2 keyint=250 keyint_min=25 scenecut=40 intra_refresh=0 rc_lookahead=40 rc=crf mbtree=1 crf=23.0 qcomp=0.60 qpmin=0 qpmax=69 qpstep=4 ip_ratio=1.40 aq=1:1.00\n",
      "[libx264 @ 0x564c83bcf900] using cpu capabilities: MMX2 SSE2Fast SSSE3 SSE4.2 AVX FMA3 BMI2 AVX2 AVX512\n",
      "[libx264 @ 0x55f9994b4d00] using cpu capabilities: MMX2 SSE2Fast SSSE3 SSE4.2 AVX FMA3 BMI2 AVX2 AVX512\n",
      "[libx264 @ 0x564c83bcf900] profile High, level 3.1, 4:2:0, 8-bit\n",
      "[libx264 @ 0x564c83bcf900] 264 - core 164 r3095 baee400 - H.264/MPEG-4 AVC codec - Copyleft 2003-2022 - http://www.videolan.org/x264.html - options: cabac=1 ref=3 deblock=1:0:0 analyse=0x3:0x113 me=hex subme=7 psy=1 psy_rd=1.00:0.00 mixed_ref=1 me_range=16 chroma_me=1 trellis=1 8x8dct=1 cqm=0 deadzone=21,11 fast_pskip=1 chroma_qp_offset=-2 threads=15 lookahead_threads=2 sliced_threads=0 nr=0 decimate=1 interlaced=0 bluray_compat=0 constrained_intra=0 bframes=3 b_pyramid=2 b_adapt=1 b_bias=0 direct=1 weightb=1 open_gop=0 weightp=2 keyint=250 keyint_min=25 scenecut=40 intra_refresh=0 rc_lookahead=40 rc=crf mbtree=1 crf=23.0 qcomp=0.60 qpmin=0 qpmax=69 qpstep=4 ip_ratio=1.40 aq=1:1.00\n",
      "Output #0, mp4, to '20240315_110000_705_20240315132408_new.mp4':\n",
      "  Metadata:\n",
      "    encoder         : Lavf59.27.100\n",
      "  Stream #0:0: Video: h264 (avc1 / 0x31637661), yuv420p(progressive), 928x480, q=2-31, 29.97 fps, 30k tbn\n",
      "    Metadata:\n",
      "      encoder         : Lavc59.37.100 libx264\n",
      "    Side data:\n",
      "      cpb: bitrate max/min/avg: 0/0/0 buffer size: 0 vbv_delay: N/A\n",
      "  Stream #0:1: Audio: aac (LC) (mp4a / 0x6134706D), 8000 Hz, mono, fltp, 48 kb/s\n",
      "    Metadata:\n",
      "      encoder         : Lavc59.37.100 aac\n",
      "[libx264 @ 0x55f9994b4d00] profile High, level 3.1, 4:2:0, 8-bit\n",
      "[libx264 @ 0x55f9994b4d00] 264 - core 164 r3095 baee400 - H.264/MPEG-4 AVC codec - Copyleft 2003-2022 - http://www.videolan.org/x264.html - options: cabac=1 ref=3 deblock=1:0:0 analyse=0x3:0x113 me=hex subme=7 psy=1 psy_rd=1.00:0.00 mixed_ref=1 me_range=16 chroma_me=1 trellis=1 8x8dct=1 cqm=0 deadzone=21,11 fast_pskip=1 chroma_qp_offset=-2 threads=15 lookahead_threads=2 sliced_threads=0 nr=0 decimate=1 interlaced=0 bluray_compat=0 constrained_intra=0 bframes=3 b_pyramid=2 b_adapt=1 b_bias=0 direct=1 weightb=1 open_gop=0 weightp=2 keyint=250 keyint_min=25 scenecut=40 intra_refresh=0 rc_lookahead=40 rc=crf mbtree=1 crf=23.0 qcomp=0.60 qpmin=0 qpmax=69 qpstep=4 ip_ratio=1.40 aq=1:1.00\n",
      "Output #0, mp4, to '20240103_110000_698_20240103123351_new.mp4':\n",
      "  Metadata:\n",
      "    encoder         : Lavf59.27.100\n",
      "  Stream #0:0: Video: h264 (avc1 / 0x31637661), yuv420p(progressive), 928x480, q=2-31, 29.97 fps, 30k tbn\n",
      "    Metadata:\n",
      "      encoder         : Lavc59.37.100 libx264\n",
      "    Side data:\n",
      "      cpb: bitrate max/min/avg: 0/0/0 buffer size: 0 vbv_delay: N/A\n",
      "  Stream #0:1: Audio: aac (LC) (mp4a / 0x6134706D), 8000 Hz, mono, fltp, 48 kb/s\n",
      "    Metadata:\n",
      "      encoder         : Lavc59.37.100 aac\n",
      "frame= 2194 fps=149 q=29.0 size=   12288kB time=00:01:13.34 bitrate=1372.5kbits/s speed=   5x    "
     ]
    }
   ],
   "source": [
    "####影片轉檔\n",
    "import os\n",
    "input_folder = \"/home/linlab/Documents/Matthew/DLC/video/video\"\n",
    "\n",
    "format_list = ['avi','mov','wmv','flv','asf', 'mkv']\n",
    "\n",
    "file_name=os.listdir(input_folder)\n",
    "video_name=[]\n",
    "for k in file_name:\n",
    "    dd=k.split(\".\")\n",
    "    if dd[-1]==\"avi\":\n",
    "        video_name.append(k)\n",
    "os.chdir(input_folder)  # 使用 Colab 要換路徑使用\n",
    "#print(video_name)\n",
    "\n",
    "out=[]\n",
    "for k in video_name:\n",
    "    k=k.split(\".\")\n",
    "    out.append(k[0]+\"_new\")\n",
    "print(out,video_name)\n",
    "i=0\n",
    "for k in video_name:\n",
    "    os.popen(\"ffmpeg -i {input}  {output}.mp4\".format(input = k, output = out[i]))\n",
    "    i+=1\n",
    "print('慘')"
   ]
  },
  {
   "cell_type": "code",
   "execution_count": 3,
   "id": "fc9aefd6-9275-4984-9398-e18be5925bb7",
   "metadata": {},
   "outputs": [],
   "source": [
    "config_path=\"/home/linlab/Documents/Matthew/DLC/Szwen_rat_well_train_with_eye-mtw-2025-03-20/config.yaml\""
   ]
  },
  {
   "cell_type": "code",
   "execution_count": 2,
   "id": "4fe107e6-d87f-43b7-a11d-167894c4db24",
   "metadata": {},
   "outputs": [
    {
     "data": {
      "text/plain": [
       "['/home/linlab/Documents/Matthew/DLC/Szwen_rat_well_train_with_eye-mtw-2025-03-20/videos/20220525_110000_675_20220525120723_new.mp4',\n",
       " '/home/linlab/Documents/Matthew/DLC/Szwen_rat_well_train_with_eye-mtw-2025-03-20/videos/20240315_110000_705_20240315132408_new.mp4',\n",
       " '/home/linlab/Documents/Matthew/DLC/Szwen_rat_well_train_with_eye-mtw-2025-03-20/videos/mid_light_20230727_150010_635_20230727151009_new.mp4',\n",
       " '/home/linlab/Documents/Matthew/DLC/Szwen_rat_well_train_with_eye-mtw-2025-03-20/videos/20240103_110000_698_20240103123351_new.mp4']"
      ]
     },
     "execution_count": 2,
     "metadata": {},
     "output_type": "execute_result"
    }
   ],
   "source": [
    "import os \n",
    "project_name=\"Szwen_rat_well_train_with_eye\"\n",
    "experimenter_name=\"mtw\"\n",
    "video_folder=\"/home/linlab/Documents/Matthew/DLC/Szwen_rat_well_train_with_eye-mtw-2025-03-20/videos\"#only need the folder name\n",
    "video_path=[os.path.abspath(os.path.join(video_folder, f)) for f in os.listdir(video_folder) if f.endswith('.mp4')]\n",
    "video_path"
   ]
  },
  {
   "cell_type": "code",
   "execution_count": 1,
   "id": "d5353c9d-96bf-4aff-8213-cc81b84cc3a6",
   "metadata": {},
   "outputs": [
    {
     "name": "stderr",
     "output_type": "stream",
     "text": [
      "2025-03-21 22:29:24.754533: I tensorflow/core/platform/cpu_feature_guard.cc:193] This TensorFlow binary is optimized with oneAPI Deep Neural Network Library (oneDNN) to use the following CPU instructions in performance-critical operations:  SSE4.1 SSE4.2 AVX AVX2 AVX512F AVX512_VNNI FMA\n",
      "To enable them in other operations, rebuild TensorFlow with the appropriate compiler flags.\n",
      "2025-03-21 22:29:24.845095: I tensorflow/core/util/port.cc:104] oneDNN custom operations are on. You may see slightly different numerical results due to floating-point round-off errors from different computation orders. To turn them off, set the environment variable `TF_ENABLE_ONEDNN_OPTS=0`.\n"
     ]
    },
    {
     "name": "stdout",
     "output_type": "stream",
     "text": [
      "Loading DLC 2.3.11...\n"
     ]
    }
   ],
   "source": [
    "import deeplabcut"
   ]
  },
  {
   "cell_type": "code",
   "execution_count": 5,
   "id": "f3f69870-7459-4a76-ba4c-f7aeaae0dc5f",
   "metadata": {
    "scrolled": true
   },
   "outputs": [
    {
     "name": "stdout",
     "output_type": "stream",
     "text": [
      "开始延时...\n"
     ]
    },
    {
     "name": "stderr",
     "output_type": "stream",
     "text": [
      "frame=64345 fps=169 q=-1.0 Lsize=  272068kB time=00:35:47.07 bitrate=1038.1kbits/s speed=5.63x    \n",
      "video:263763kB audio:7364kB subtitle:0kB other streams:0kB global headers:0kB muxing overhead: 0.347228%\n",
      "[libx264 @ 0x564c83bcf900] frame I:287   Avg QP:21.58  size: 23724\n",
      "[libx264 @ 0x564c83bcf900] frame P:25791 Avg QP:23.44  size:  6555\n",
      "[libx264 @ 0x564c83bcf900] frame B:38267 Avg QP:27.32  size:  2462\n",
      "[libx264 @ 0x564c83bcf900] consecutive B-frames: 18.6%  4.0%  7.0% 70.4%\n",
      "[libx264 @ 0x564c83bcf900] mb I  I16..4: 12.1% 61.8% 26.1%\n",
      "[libx264 @ 0x564c83bcf900] mb P  I16..4:  3.7% 10.3%  1.5%  P16..4: 30.6% 11.6%  5.1%  0.0%  0.0%    skip:37.2%\n",
      "[libx264 @ 0x564c83bcf900] mb B  I16..4:  0.8%  2.0%  0.2%  B16..8: 30.7%  5.0%  0.9%  direct: 3.8%  skip:56.7%  L0:45.4% L1:47.6% BI: 6.9%\n",
      "[libx264 @ 0x564c83bcf900] 8x8 transform intra:66.2% inter:74.5%\n",
      "[libx264 @ 0x564c83bcf900] coded y,uvDC,uvAC intra: 52.3% 0.0% 0.0% inter: 16.9% 0.0% 0.0%\n",
      "[libx264 @ 0x564c83bcf900] i16 v,h,dc,p: 13% 41%  9% 37%\n",
      "[libx264 @ 0x564c83bcf900] i8 v,h,dc,ddl,ddr,vr,hd,vl,hu: 15% 27% 19%  5%  7%  5% 11%  4%  8%\n",
      "[libx264 @ 0x564c83bcf900] i4 v,h,dc,ddl,ddr,vr,hd,vl,hu: 16% 32% 15%  5%  8%  5% 10%  3%  6%\n",
      "[libx264 @ 0x564c83bcf900] i8c dc,h,v,p: 100%  0%  0%  0%\n",
      "[libx264 @ 0x564c83bcf900] Weighted P-Frames: Y:29.1% UV:0.0%\n",
      "[libx264 @ 0x564c83bcf900] ref P L0: 67.1% 16.0% 12.6%  3.3%  1.1%\n",
      "[libx264 @ 0x564c83bcf900] ref B L0: 91.1%  6.8%  2.1%\n",
      "[libx264 @ 0x564c83bcf900] ref B L1: 96.8%  3.2%\n",
      "[libx264 @ 0x564c83bcf900] kb/s:1006.41\n",
      "[aac @ 0x564c83bcd400] Qavg: 65504.473\n",
      "[h264 @ 0x55f9995941c0] top block unavailable for requested intra mode -16kbits/s speed= 4.9x    \n",
      "[h264 @ 0x55f9995941c0] error while decoding MB 34 0, bytestream 4270\n",
      "[h264 @ 0x55f9995941c0] Frame num change from 55 to 32\n",
      "[h264 @ 0x55f9995941c0] decode_slice_header error\n",
      "[h264 @ 0x55f9995941c0] concealing 1740 DC, 1740 AC, 1740 MV errors in P frame\n",
      "20240103_110000_698_20240103123351.avi: corrupt decoded frame in stream 0\n",
      "frame=109210 fps=201 q=-1.0 Lsize=  384161kB time=01:00:43.87 bitrate= 863.7kbits/s speed=6.72x    \n",
      "video:369923kB audio:12558kB subtitle:0kB other streams:0kB global headers:0kB muxing overhead: 0.439168%\n",
      "[libx264 @ 0x55875b179380] frame I:443   Avg QP:19.63  size: 30837\n",
      "[libx264 @ 0x55875b179380] frame P:46468 Avg QP:22.48  size:  5315\n",
      "[libx264 @ 0x55875b179380] frame B:62299 Avg QP:26.98  size:  1897\n",
      "[libx264 @ 0x55875b179380] consecutive B-frames: 22.6%  2.5%  4.9% 70.0%\n",
      "[libx264 @ 0x55875b179380] mb I  I16..4: 10.6% 57.4% 31.9%\n",
      "[libx264 @ 0x55875b179380] mb P  I16..4:  1.6%  5.6%  0.9%  P16..4: 29.2% 10.0%  5.5%  0.0%  0.0%    skip:47.1%\n",
      "[libx264 @ 0x55875b179380] mb B  I16..4:  0.3%  1.1%  0.1%  B16..8: 28.0%  4.4%  0.8%  direct: 1.7%  skip:63.6%  L0:42.7% L1:52.9% BI: 4.4%\n",
      "[libx264 @ 0x55875b179380] 8x8 transform intra:68.6% inter:70.7%\n",
      "[libx264 @ 0x55875b179380] coded y,uvDC,uvAC intra: 59.8% 0.0% 0.0% inter: 13.2% 0.0% 0.0%\n",
      "[libx264 @ 0x55875b179380] i16 v,h,dc,p: 10% 36%  9% 45%\n",
      "[libx264 @ 0x55875b179380] i8 v,h,dc,ddl,ddr,vr,hd,vl,hu: 12% 26% 17%  5%  8%  5% 12%  5% 10%\n",
      "[libx264 @ 0x55875b179380] i4 v,h,dc,ddl,ddr,vr,hd,vl,hu: 14% 32% 14%  5%  8%  5% 11%  4%  7%\n",
      "[libx264 @ 0x55875b179380] i8c dc,h,v,p: 100%  0%  0%  0%\n",
      "[libx264 @ 0x55875b179380] Weighted P-Frames: Y:10.9% UV:0.0%\n",
      "[libx264 @ 0x55875b179380] ref P L0: 70.2% 14.9% 10.9%  3.6%  0.5%\n",
      "[libx264 @ 0x55875b179380] ref B L0: 91.9%  6.2%  1.9%\n",
      "[libx264 @ 0x55875b179380] ref B L1: 97.2%  2.8%\n",
      "[libx264 @ 0x55875b179380] kb/s:831.62\n",
      "[aac @ 0x55875b18b600] Qavg: 65513.055\n",
      "frame=88920 fps=156 q=-1.0 Lsize=  538209kB time=00:49:27.04 bitrate=1486.0kbits/s speed=5.22x    \n",
      "video:527273kB audio:9635kB subtitle:0kB other streams:0kB global headers:0kB muxing overhead: 0.242274%\n",
      "[libx264 @ 0x55f9994b4d00] frame I:564   Avg QP:23.35  size: 20305\n",
      "[libx264 @ 0x55f9994b4d00] frame P:35931 Avg QP:24.83  size:  8768\n",
      "[libx264 @ 0x55f9994b4d00] frame B:52425 Avg QP:27.11  size:  4071\n",
      "[libx264 @ 0x55f9994b4d00] consecutive B-frames: 19.2%  4.3%  6.8% 69.7%\n",
      "[libx264 @ 0x55f9994b4d00] mb I  I16..4: 11.5% 64.3% 24.2%\n",
      "[libx264 @ 0x55f9994b4d00] mb P  I16..4:  4.5% 15.5%  2.4%  P16..4: 37.9% 14.3%  5.6%  0.0%  0.0%    skip:19.8%\n",
      "[libx264 @ 0x55f9994b4d00] mb B  I16..4:  1.6%  3.8%  0.4%  B16..8: 37.0%  8.0%  1.5%  direct: 7.5%  skip:40.1%  L0:48.5% L1:44.1% BI: 7.5%\n",
      "[libx264 @ 0x55f9994b4d00] 8x8 transform intra:67.7% inter:75.6%\n",
      "[libx264 @ 0x55f9994b4d00] coded y,uvDC,uvAC intra: 57.1% 0.0% 0.0% inter: 26.9% 0.0% 0.0%\n",
      "[libx264 @ 0x55f9994b4d00] i16 v,h,dc,p:  8% 46%  7% 39%\n",
      "[libx264 @ 0x55f9994b4d00] i8 v,h,dc,ddl,ddr,vr,hd,vl,hu: 13% 32% 17%  5%  6%  4%  9%  4%  9%\n",
      "[libx264 @ 0x55f9994b4d00] i4 v,h,dc,ddl,ddr,vr,hd,vl,hu: 17% 34% 15%  4%  6%  4% 10%  3%  6%\n",
      "[libx264 @ 0x55f9994b4d00] i8c dc,h,v,p: 100%  0%  0%  0%\n",
      "[libx264 @ 0x55f9994b4d00] Weighted P-Frames: Y:31.7% UV:0.0%\n",
      "[libx264 @ 0x55f9994b4d00] ref P L0: 67.9% 14.5% 11.8%  4.8%  1.0%\n",
      "[libx264 @ 0x55f9994b4d00] ref B L0: 91.2%  6.5%  2.3%\n",
      "[libx264 @ 0x55f9994b4d00] ref B L1: 97.4%  2.6%\n",
      "[libx264 @ 0x55f9994b4d00] kb/s:1455.84\n",
      "[aac @ 0x55f9994b5640] Qavg: 65519.293\n"
     ]
    },
    {
     "ename": "KeyboardInterrupt",
     "evalue": "",
     "output_type": "error",
     "traceback": [
      "\u001b[0;31m---------------------------------------------------------------------------\u001b[0m",
      "\u001b[0;31mKeyboardInterrupt\u001b[0m                         Traceback (most recent call last)",
      "Cell \u001b[0;32mIn[5], line 4\u001b[0m\n\u001b[1;32m      1\u001b[0m \u001b[38;5;28;01mimport\u001b[39;00m\u001b[38;5;250m \u001b[39m\u001b[38;5;21;01mtime\u001b[39;00m\n\u001b[1;32m      3\u001b[0m \u001b[38;5;28mprint\u001b[39m(\u001b[38;5;124m\"\u001b[39m\u001b[38;5;124m开始延时...\u001b[39m\u001b[38;5;124m\"\u001b[39m)\n\u001b[0;32m----> 4\u001b[0m \u001b[43mtime\u001b[49m\u001b[38;5;241;43m.\u001b[39;49m\u001b[43msleep\u001b[49m\u001b[43m(\u001b[49m\u001b[38;5;241;43m14400\u001b[39;49m\u001b[43m)\u001b[49m  \u001b[38;5;66;03m# 暂停 7200 秒（2小时）\u001b[39;00m\n\u001b[1;32m      5\u001b[0m \u001b[38;5;28mprint\u001b[39m(\u001b[38;5;124m\"\u001b[39m\u001b[38;5;124m4小时后，延时结束！\u001b[39m\u001b[38;5;124m\"\u001b[39m)\n",
      "\u001b[0;31mKeyboardInterrupt\u001b[0m: "
     ]
    }
   ],
   "source": [
    "import time\n",
    "\n",
    "print(\"开始延时...\")\n",
    "time.sleep(14400)  # 暂停 7200 秒（2小时）\n",
    "print(\"4小时后，延时结束！\")"
   ]
  },
  {
   "cell_type": "code",
   "execution_count": 6,
   "id": "05d330e1-0b4f-4615-8498-46a50ae6ec3d",
   "metadata": {
    "scrolled": true
   },
   "outputs": [
    {
     "name": "stdout",
     "output_type": "stream",
     "text": [
      "Created \"/home/linlab/Documents/Matthew/DLC/Szwen_rat_well_train_with_eye-mtw-2025-03-20/videos\"\n",
      "Created \"/home/linlab/Documents/Matthew/DLC/Szwen_rat_well_train_with_eye-mtw-2025-03-20/labeled-data\"\n",
      "Created \"/home/linlab/Documents/Matthew/DLC/Szwen_rat_well_train_with_eye-mtw-2025-03-20/training-datasets\"\n",
      "Created \"/home/linlab/Documents/Matthew/DLC/Szwen_rat_well_train_with_eye-mtw-2025-03-20/dlc-models\"\n",
      "Copying the videos\n",
      "/home/linlab/Documents/Matthew/DLC/Szwen_rat_well_train_with_eye-mtw-2025-03-20/videos/20220525_110000_675_20220525120723_new.mp4\n",
      "/home/linlab/Documents/Matthew/DLC/Szwen_rat_well_train_with_eye-mtw-2025-03-20/videos/20240315_110000_705_20240315132408_new.mp4\n",
      "/home/linlab/Documents/Matthew/DLC/Szwen_rat_well_train_with_eye-mtw-2025-03-20/videos/mid_light_20230727_150010_635_20230727151009_new.mp4\n",
      "/home/linlab/Documents/Matthew/DLC/Szwen_rat_well_train_with_eye-mtw-2025-03-20/videos/20240103_110000_698_20240103123351_new.mp4\n",
      "Generated \"/home/linlab/Documents/Matthew/DLC/Szwen_rat_well_train_with_eye-mtw-2025-03-20/config.yaml\"\n",
      "\n",
      "A new project with name Szwen_rat_well_train_with_eye-mtw-2025-03-20 is created at /home/linlab/Documents/Matthew/DLC and a configurable file (config.yaml) is stored there. Change the parameters in this file to adapt to your project's needs.\n",
      " Once you have changed the configuration file, use the function 'extract_frames' to select frames for labeling.\n",
      ". [OPTIONAL] Use the function 'add_new_videos' to add new videos to your project (at any stage).\n"
     ]
    }
   ],
   "source": [
    "config_path=deeplabcut.create_new_project(\n",
    "    project_name,\n",
    "    experimenter_name,\n",
    "    video_path,\n",
    "    working_directory=\"/home/linlab/Documents/Matthew/DLC\",\n",
    "    copy_videos=True,\n",
    "    multianimal=False\n",
    ")"
   ]
  },
  {
   "cell_type": "code",
   "execution_count": null,
   "id": "126226fd-49a1-4845-8b1b-c0feda7335b2",
   "metadata": {},
   "outputs": [],
   "source": [
    "#####remeber to change the config file!!!!!!!!"
   ]
  },
  {
   "cell_type": "code",
   "execution_count": 7,
   "id": "17192918-954a-4f97-b9f6-154ef87758d1",
   "metadata": {
    "scrolled": true
   },
   "outputs": [
    {
     "name": "stdout",
     "output_type": "stream",
     "text": [
      "Config file read successfully.\n",
      "Extracting frames based on kmeans ...\n",
      "Kmeans-quantization based extracting of frames from 0.0  seconds to 3643.98  seconds.\n",
      "Extracting and downsampling... 109210  frames from the video.\n"
     ]
    },
    {
     "name": "stderr",
     "output_type": "stream",
     "text": [
      "109210it [04:51, 374.11it/s]\n"
     ]
    },
    {
     "name": "stdout",
     "output_type": "stream",
     "text": [
      "Kmeans clustering ... (this might take a while)\n",
      "Extracting frames based on kmeans ...\n",
      "Kmeans-quantization based extracting of frames from 0.0  seconds to 2146.98  seconds.\n",
      "Extracting and downsampling... 64345  frames from the video.\n"
     ]
    },
    {
     "name": "stderr",
     "output_type": "stream",
     "text": [
      "IOPub message rate exceeded.\n",
      "The Jupyter server will temporarily stop sending output\n",
      "to the client in order to avoid crashing it.\n",
      "To change this limit, set the config variable\n",
      "`--ServerApp.iopub_msg_rate_limit`.\n",
      "\n",
      "Current values:\n",
      "ServerApp.iopub_msg_rate_limit=1000.0 (msgs/sec)\n",
      "ServerApp.rate_limit_window=3.0 (secs)\n",
      "\n",
      "73677it [03:18, 370.72it/s]\n"
     ]
    },
    {
     "name": "stdout",
     "output_type": "stream",
     "text": [
      "Kmeans clustering ... (this might take a while)\n",
      "Extracting frames based on kmeans ...\n",
      "Kmeans-quantization based extracting of frames from 0.0  seconds to 2966.97  seconds.\n",
      "Extracting and downsampling... 88920  frames from the video.\n"
     ]
    },
    {
     "name": "stderr",
     "output_type": "stream",
     "text": [
      "88920it [04:01, 368.23it/s]\n"
     ]
    },
    {
     "name": "stdout",
     "output_type": "stream",
     "text": [
      "Kmeans clustering ... (this might take a while)\n",
      "Frames were successfully extracted, for the videos listed in the config.yaml file.\n",
      "\n",
      "You can now label the frames using the function 'label_frames' (Note, you should label frames extracted from diverse videos (and many videos; we do not recommend training on single videos!)).\n"
     ]
    }
   ],
   "source": [
    "deeplabcut.extract_frames(\n",
    "    config_path,\n",
    "    mode=\"automatic\",\n",
    "    crop=False,\n",
    "    userfeedback=False\n",
    ")"
   ]
  },
  {
   "cell_type": "code",
   "execution_count": 4,
   "id": "37fc57b2-ba7f-41c2-a93a-56dcc621afe5",
   "metadata": {},
   "outputs": [
    {
     "name": "stdout",
     "output_type": "stream",
     "text": [
      "scp -r /home/linlab/Documents/Matthew/DLC/Szwen_rat_well_train_with_eye-mtw-2025-03-20 120.126.102.181:/Users/linlab/Documents/Matthew/DLC_label\n",
      "scp -r /Users/linlab/Documents/Matthew/DLC_label/Szwen_rat_well_train_with_eye-mtw-2025-03-20 linlab@120.126.45.88:/home/linlab/Documents/Matthew/DLC\n"
     ]
    }
   ],
   "source": [
    "#transfer file to local\n",
    "####待解決\n",
    "#scp -r config_path[:-11] 120.126.102.181:/Users/linlab/Documents/Matthew/DLC_label\n",
    "print(\"scp -r \"+config_path[:-12]+\" 120.126.102.181:/Users/linlab/Documents/Matthew/DLC_label\")#when start label\n",
    "print(\"scp -r /Users/linlab/Documents/Matthew/DLC_label\"+config_path[34:-12]+\" linlab@120.126.45.88:/home/linlab/Documents/Matthew/DLC\")#when finish label"
   ]
  },
  {
   "cell_type": "code",
   "execution_count": 10,
   "id": "76856ea3-e997-4b56-a780-8437e44826d0",
   "metadata": {},
   "outputs": [
    {
     "name": "stdout",
     "output_type": "stream",
     "text": [
      "mv: cannot stat 'Szwen_rat_well_train_with_eye-mtw-2025-03-20': No such file or directory\n"
     ]
    }
   ],
   "source": [
    "#changing file name keeping from bug!!!!!!!!!!!!!!\n",
    "! mv \"Szwen_rat_well_train_with_eye-mtw-2025-03-20\" \"Szwen_rat_well_train_with_eye-mtw-2025-03-20_unlabel\""
   ]
  },
  {
   "cell_type": "code",
   "execution_count": 5,
   "id": "98bc1f70-19e2-4394-974b-0147130628dc",
   "metadata": {},
   "outputs": [
    {
     "name": "stdout",
     "output_type": "stream",
     "text": [
      "The training dataset is successfully created. Use the function 'train_network' to start training. Happy training!\n"
     ]
    },
    {
     "data": {
      "text/plain": [
       "[(0.95,\n",
       "  1,\n",
       "  (array([50, 27, 30, 77, 45, 71, 66, 68, 48, 69, 40, 63,  2, 72, 52, 34,  3,\n",
       "          22,  7, 26, 42, 38, 41, 79, 55, 17, 60, 62,  6, 56, 73,  4, 33, 53,\n",
       "          28, 11, 57, 23, 10, 31, 43, 61,  1, 32, 75, 14, 54, 19, 29, 49, 24,\n",
       "          35, 18,  0, 78, 15,  5, 59, 16, 51, 20, 74,  8, 13, 25, 37, 46, 39,\n",
       "          65, 58, 12, 70, 36, 21,  9, 76]),\n",
       "   array([67, 64, 47, 44])))]"
      ]
     },
     "execution_count": 5,
     "metadata": {},
     "output_type": "execute_result"
    }
   ],
   "source": [
    "deeplabcut.create_training_dataset(config_path)"
   ]
  },
  {
   "cell_type": "code",
   "execution_count": null,
   "id": "0f9fe2c2-b5dc-40cd-a31f-88c3aa59850d",
   "metadata": {
    "scrolled": true
   },
   "outputs": [
    {
     "name": "stderr",
     "output_type": "stream",
     "text": [
      "Config:\n",
      "{'all_joints': [[0], [1], [2], [3], [4], [5], [6], [7], [8], [9], [10]],\n",
      " 'all_joints_names': ['nose',\n",
      "                      'Leye',\n",
      "                      'Reye',\n",
      "                      'Lear',\n",
      "                      'Rear',\n",
      "                      'body1',\n",
      "                      'body2',\n",
      "                      'bottom',\n",
      "                      'Llight',\n",
      "                      'Mlight',\n",
      "                      'Rlight'],\n",
      " 'alpha_r': 0.02,\n",
      " 'apply_prob': 0.5,\n",
      " 'batch_size': 1,\n",
      " 'contrast': {'clahe': True,\n",
      "              'claheratio': 0.1,\n",
      "              'histeq': True,\n",
      "              'histeqratio': 0.1},\n",
      " 'convolution': {'edge': False,\n",
      "                 'emboss': {'alpha': [0.0, 1.0], 'strength': [0.5, 1.5]},\n",
      "                 'embossratio': 0.1,\n",
      "                 'sharpen': False,\n",
      "                 'sharpenratio': 0.3},\n",
      " 'crop_pad': 0,\n",
      " 'cropratio': 0.4,\n",
      " 'dataset': 'training-datasets/iteration-0/UnaugmentedDataSet_Szwen_rat_well_train_with_eyeMar20/Szwen_rat_well_train_with_eye_mtw95shuffle1.mat',\n",
      " 'dataset_type': 'default',\n",
      " 'decay_steps': 30000,\n",
      " 'deterministic': False,\n",
      " 'display_iters': 1000,\n",
      " 'fg_fraction': 0.25,\n",
      " 'global_scale': 0.8,\n",
      " 'init_weights': '/home/linlab/miniconda3/envs/DLC_tf/lib/python3.10/site-packages/deeplabcut/pose_estimation_tensorflow/models/pretrained/resnet_v1_50.ckpt',\n",
      " 'intermediate_supervision': False,\n",
      " 'intermediate_supervision_layer': 12,\n",
      " 'location_refinement': True,\n",
      " 'locref_huber_loss': True,\n",
      " 'locref_loss_weight': 0.05,\n",
      " 'locref_stdev': 7.2801,\n",
      " 'log_dir': 'log',\n",
      " 'lr_init': 0.0005,\n",
      " 'max_input_size': 1500,\n",
      " 'mean_pixel': [123.68, 116.779, 103.939],\n",
      " 'metadataset': 'training-datasets/iteration-0/UnaugmentedDataSet_Szwen_rat_well_train_with_eyeMar20/Documentation_data-Szwen_rat_well_train_with_eye_95shuffle1.pickle',\n",
      " 'min_input_size': 64,\n",
      " 'mirror': False,\n",
      " 'multi_stage': False,\n",
      " 'multi_step': [[0.005, 10000],\n",
      "                [0.02, 430000],\n",
      "                [0.002, 730000],\n",
      "                [0.001, 1030000]],\n",
      " 'net_type': 'resnet_50',\n",
      " 'num_joints': 11,\n",
      " 'optimizer': 'sgd',\n",
      " 'pairwise_huber_loss': False,\n",
      " 'pairwise_predict': False,\n",
      " 'partaffinityfield_predict': False,\n",
      " 'pos_dist_thresh': 17,\n",
      " 'project_path': '/home/linlab/Documents/Matthew/DLC/Szwen_rat_well_train_with_eye-mtw-2025-03-20',\n",
      " 'regularize': False,\n",
      " 'rotation': 25,\n",
      " 'rotratio': 0.4,\n",
      " 'save_iters': 50000,\n",
      " 'scale_jitter_lo': 0.5,\n",
      " 'scale_jitter_up': 1.25,\n",
      " 'scoremap_dir': 'test',\n",
      " 'shuffle': True,\n",
      " 'snapshot_prefix': '/home/linlab/Documents/Matthew/DLC/Szwen_rat_well_train_with_eye-mtw-2025-03-20/dlc-models/iteration-0/Szwen_rat_well_train_with_eyeMar20-trainset95shuffle1/train/snapshot',\n",
      " 'stride': 8.0,\n",
      " 'weigh_negatives': False,\n",
      " 'weigh_only_present_joints': False,\n",
      " 'weigh_part_predictions': False,\n",
      " 'weight_decay': 0.0001}\n"
     ]
    },
    {
     "name": "stdout",
     "output_type": "stream",
     "text": [
      "Selecting single-animal trainer\n",
      "Batch Size is 1\n"
     ]
    },
    {
     "name": "stderr",
     "output_type": "stream",
     "text": [
      "/home/linlab/miniconda3/envs/DLC_tf/lib/python3.10/site-packages/tensorflow/python/keras/engine/base_layer_v1.py:1694: UserWarning: `layer.apply` is deprecated and will be removed in a future version. Please use `layer.__call__` method instead.\n",
      "  warnings.warn('`layer.apply` is deprecated and '\n",
      "2025-03-20 17:58:00.771014: I tensorflow/core/platform/cpu_feature_guard.cc:193] This TensorFlow binary is optimized with oneAPI Deep Neural Network Library (oneDNN) to use the following CPU instructions in performance-critical operations:  SSE4.1 SSE4.2 AVX AVX2 AVX512F AVX512_VNNI FMA\n",
      "To enable them in other operations, rebuild TensorFlow with the appropriate compiler flags.\n",
      "2025-03-20 17:58:00.955938: W tensorflow/core/common_runtime/gpu/gpu_bfc_allocator.cc:42] Overriding orig_value setting because the TF_FORCE_GPU_ALLOW_GROWTH environment variable is set. Original config value was 0.\n",
      "2025-03-20 17:58:00.955978: I tensorflow/core/common_runtime/gpu/gpu_device.cc:1613] Created device /job:localhost/replica:0/task:0/device:GPU:0 with 26246 MB memory:  -> device: 0, name: Tesla V100S-PCIE-32GB, pci bus id: 0000:3b:00.0, compute capability: 7.0\n",
      "2025-03-20 17:58:00.956736: W tensorflow/core/common_runtime/gpu/gpu_bfc_allocator.cc:42] Overriding orig_value setting because the TF_FORCE_GPU_ALLOW_GROWTH environment variable is set. Original config value was 0.\n",
      "2025-03-20 17:58:00.956757: I tensorflow/core/common_runtime/gpu/gpu_device.cc:1613] Created device /job:localhost/replica:0/task:0/device:GPU:1 with 30830 MB memory:  -> device: 1, name: Tesla V100S-PCIE-32GB, pci bus id: 0000:d8:00.0, compute capability: 7.0\n"
     ]
    },
    {
     "name": "stdout",
     "output_type": "stream",
     "text": [
      "Loading ImageNet-pretrained resnet_50\n"
     ]
    },
    {
     "name": "stderr",
     "output_type": "stream",
     "text": [
      "2025-03-20 17:58:01.355649: I tensorflow/core/common_runtime/gpu/gpu_device.cc:1613] Created device /job:localhost/replica:0/task:0/device:GPU:0 with 26246 MB memory:  -> device: 0, name: Tesla V100S-PCIE-32GB, pci bus id: 0000:3b:00.0, compute capability: 7.0\n",
      "2025-03-20 17:58:01.356096: I tensorflow/core/common_runtime/gpu/gpu_device.cc:1613] Created device /job:localhost/replica:0/task:0/device:GPU:1 with 30830 MB memory:  -> device: 1, name: Tesla V100S-PCIE-32GB, pci bus id: 0000:d8:00.0, compute capability: 7.0\n",
      "2025-03-20 17:58:02.133568: I tensorflow/compiler/mlir/mlir_graph_optimization_pass.cc:357] MLIR V1 optimization pass is not enabled\n",
      "2025-03-20 17:58:03.340761: W tensorflow/c/c_api.cc:291] Operation '{name:'pose/locref_pred/block4/biases/Momentum/Assign' id:6191 op device:{requested: '', assigned: ''} def:{{{node pose/locref_pred/block4/biases/Momentum/Assign}} = AssignVariableOp[_has_manual_control_dependencies=true, dtype=DT_FLOAT, validate_shape=false](pose/locref_pred/block4/biases/Momentum, pose/locref_pred/block4/biases/Momentum/Initializer/zeros)}}' was changed by setting attribute after it was run by a session. This mutation will have no effect, and will trigger an error in the future. Either don't modify nodes after running them or create a new session.\n"
     ]
    },
    {
     "name": "stdout",
     "output_type": "stream",
     "text": [
      "Training parameter:\n",
      "{'stride': 8.0, 'weigh_part_predictions': False, 'weigh_negatives': False, 'fg_fraction': 0.25, 'mean_pixel': [123.68, 116.779, 103.939], 'shuffle': True, 'snapshot_prefix': '/home/linlab/Documents/Matthew/DLC/Szwen_rat_well_train_with_eye-mtw-2025-03-20/dlc-models/iteration-0/Szwen_rat_well_train_with_eyeMar20-trainset95shuffle1/train/snapshot', 'log_dir': 'log', 'global_scale': 0.8, 'location_refinement': True, 'locref_stdev': 7.2801, 'locref_loss_weight': 0.05, 'locref_huber_loss': True, 'optimizer': 'sgd', 'intermediate_supervision': False, 'intermediate_supervision_layer': 12, 'regularize': False, 'weight_decay': 0.0001, 'crop_pad': 0, 'scoremap_dir': 'test', 'batch_size': 1, 'dataset_type': 'default', 'deterministic': False, 'mirror': False, 'pairwise_huber_loss': False, 'weigh_only_present_joints': False, 'partaffinityfield_predict': False, 'pairwise_predict': False, 'all_joints': [[0], [1], [2], [3], [4], [5], [6], [7], [8], [9], [10]], 'all_joints_names': ['nose', 'Leye', 'Reye', 'Lear', 'Rear', 'body1', 'body2', 'bottom', 'Llight', 'Mlight', 'Rlight'], 'alpha_r': 0.02, 'apply_prob': 0.5, 'contrast': {'clahe': True, 'claheratio': 0.1, 'histeq': True, 'histeqratio': 0.1, 'gamma': False, 'sigmoid': False, 'log': False, 'linear': False}, 'convolution': {'edge': False, 'emboss': {'alpha': [0.0, 1.0], 'strength': [0.5, 1.5]}, 'embossratio': 0.1, 'sharpen': False, 'sharpenratio': 0.3}, 'cropratio': 0.4, 'dataset': 'training-datasets/iteration-0/UnaugmentedDataSet_Szwen_rat_well_train_with_eyeMar20/Szwen_rat_well_train_with_eye_mtw95shuffle1.mat', 'decay_steps': 30000, 'display_iters': 1000, 'init_weights': '/home/linlab/miniconda3/envs/DLC_tf/lib/python3.10/site-packages/deeplabcut/pose_estimation_tensorflow/models/pretrained/resnet_v1_50.ckpt', 'lr_init': 0.0005, 'max_input_size': 1500, 'metadataset': 'training-datasets/iteration-0/UnaugmentedDataSet_Szwen_rat_well_train_with_eyeMar20/Documentation_data-Szwen_rat_well_train_with_eye_95shuffle1.pickle', 'min_input_size': 64, 'multi_stage': False, 'multi_step': [[0.005, 10000], [0.02, 430000], [0.002, 730000], [0.001, 1030000]], 'net_type': 'resnet_50', 'num_joints': 11, 'pos_dist_thresh': 17, 'project_path': '/home/linlab/Documents/Matthew/DLC/Szwen_rat_well_train_with_eye-mtw-2025-03-20', 'rotation': 25, 'rotratio': 0.4, 'save_iters': 50000, 'scale_jitter_lo': 0.5, 'scale_jitter_up': 1.25, 'covering': True, 'elastic_transform': True, 'motion_blur': True, 'motion_blur_params': {'k': 7, 'angle': (-90, 90)}}\n",
      "Starting training....\n"
     ]
    },
    {
     "name": "stderr",
     "output_type": "stream",
     "text": [
      "2025-03-20 17:58:05.778696: I tensorflow/compiler/xla/stream_executor/cuda/cuda_dnn.cc:428] Loaded cuDNN version 8907\n",
      "2025-03-20 17:58:05.871047: I tensorflow/tsl/platform/default/subprocess.cc:304] Start cannot spawn child process: No such file or directory\n",
      "2025-03-20 17:58:05.872531: I tensorflow/tsl/platform/default/subprocess.cc:304] Start cannot spawn child process: No such file or directory\n",
      "2025-03-20 17:58:05.872545: W tensorflow/compiler/xla/stream_executor/gpu/asm_compiler.cc:85] Couldn't get ptxas version string: INTERNAL: Couldn't invoke ptxas --version\n",
      "2025-03-20 17:58:05.874384: I tensorflow/tsl/platform/default/subprocess.cc:304] Start cannot spawn child process: No such file or directory\n",
      "2025-03-20 17:58:05.874447: W tensorflow/compiler/xla/stream_executor/gpu/redzone_allocator.cc:318] INTERNAL: Failed to launch ptxas\n",
      "Relying on driver to perform ptx compilation. \n",
      "Modify $PATH to customize ptxas location.\n",
      "This message will be only logged once.\n",
      "iteration: 1000 loss: 0.0299 lr: 0.005\n",
      "iteration: 2000 loss: 0.0204 lr: 0.005\n"
     ]
    }
   ],
   "source": [
    "deeplabcut.train_network(config_path,allow_growth=True)"
   ]
  },
  {
   "cell_type": "code",
   "execution_count": null,
   "id": "6aa6dca3-c9a9-4915-aa09-727fb17d375b",
   "metadata": {
    "scrolled": true
   },
   "outputs": [],
   "source": [
    "deeplabcut.evaluate_network(config_path)\n",
    "#,snapshotindex=-2"
   ]
  },
  {
   "cell_type": "code",
   "execution_count": null,
   "id": "9a608349-8f4e-4489-88d5-b4ddf3dd8506",
   "metadata": {
    "scrolled": true
   },
   "outputs": [],
   "source": [
    "deeplabcut.analyze_videos(\n",
    "    config_path, video_path, \n",
    "    save_as_csv=True\n",
    ")"
   ]
  },
  {
   "cell_type": "code",
   "execution_count": null,
   "id": "a3ac0b8b-66da-4437-b7d8-9ae589d7ce46",
   "metadata": {},
   "outputs": [],
   "source": [
    "deeplabcut.create_labeled_video(\n",
    "    config_path,\n",
    "    video_path,\n",
    "    save_frames = False\n",
    ")"
   ]
  },
  {
   "cell_type": "code",
   "execution_count": null,
   "id": "cbee0427-b7c7-472b-a6ec-66b7f4b9ad64",
   "metadata": {},
   "outputs": [],
   "source": []
  },
  {
   "cell_type": "code",
   "execution_count": 15,
   "id": "f9d789ef-31f9-404c-af7d-90714d0089f5",
   "metadata": {
    "scrolled": true
   },
   "outputs": [
    {
     "name": "stdout",
     "output_type": "stream",
     "text": [
      "Method  uncertain  found  58808  putative outlier frames.\n",
      "Do you want to proceed with extracting  20  of those?\n",
      "If this list is very large, perhaps consider changing the parameters (start, stop, p_bound, comparisonbodyparts) or use a different method.\n",
      "Frames from video 20220525_110000_675_20220525120723_new  already extracted (more will be added)!\n",
      "Loading video...\n",
      "Cropping coords: None\n",
      "Duration of video [s]:  3643.9773106439775 , recorded @  29.97 fps!\n",
      "Overall # of frames:  109210 with (cropped) frame dimensions: \n",
      "Kmeans-quantization based extracting of frames from 0.0  seconds to 3643.98  seconds.\n",
      "Extracting and downsampling... 58807  frames from the video.\n"
     ]
    },
    {
     "name": "stderr",
     "output_type": "stream",
     "text": [
      "58807it [1:32:03, 10.65it/s]\n"
     ]
    },
    {
     "name": "stdout",
     "output_type": "stream",
     "text": [
      "Kmeans clustering ... (this might take a while)\n",
      "Let's select frames indices: [18614, 71290, 99542, 104167, 94189, 72016, 51916, 52971, 93923, 44680, 36197, 69226, 49383, 54771, 11553, 46258, 80275, 106909, 91089, 87084]\n",
      "Attempting to create a symbolic link of the video ...\n",
      "Video /home/linlab/Documents/Matthew/DLC/Szwen_rat_well_train_with_eye-mtw-2025-03-20/videos/20220525_110000_675_20220525120723_new.mp4 already exists. Skipping...\n",
      "New videos were added to the project! Use the function 'extract_frames' to select frames for labeling.\n",
      "The outlier frames are extracted. They are stored in the subdirectory labeled-data\\20220525_110000_675_20220525120723_new.\n",
      "Once you extracted frames for all videos, use 'refine_labels' to manually correct the labels.\n",
      "Method  uncertain  found  39625  putative outlier frames.\n",
      "Do you want to proceed with extracting  20  of those?\n",
      "If this list is very large, perhaps consider changing the parameters (start, stop, p_bound, comparisonbodyparts) or use a different method.\n",
      "Frames from video mid_light_20230727_150010_635_20230727151009_new  already extracted (more will be added)!\n",
      "Loading video...\n",
      "Cropping coords: None\n",
      "Duration of video [s]:  2458.3583583583586 , recorded @  29.97 fps!\n",
      "Overall # of frames:  73677 with (cropped) frame dimensions: \n",
      "Kmeans-quantization based extracting of frames from 0.0  seconds to 2458.36  seconds.\n",
      "Extracting and downsampling... 39625  frames from the video.\n"
     ]
    },
    {
     "name": "stderr",
     "output_type": "stream",
     "text": [
      "39625it [55:41, 11.86it/s]\n"
     ]
    },
    {
     "name": "stdout",
     "output_type": "stream",
     "text": [
      "Kmeans clustering ... (this might take a while)\n",
      "Let's select frames indices: [38767, 11848, 65383, 56262, 28987, 19929, 72462, 6619, 2370, 31805, 56677, 51679, 61479, 17233, 7466, 3952, 60486, 9479, 34740, 26455]\n",
      "Attempting to create a symbolic link of the video ...\n",
      "Video /home/linlab/Documents/Matthew/DLC/Szwen_rat_well_train_with_eye-mtw-2025-03-20/videos/mid_light_20230727_150010_635_20230727151009_new.mp4 already exists. Skipping...\n",
      "New videos were added to the project! Use the function 'extract_frames' to select frames for labeling.\n",
      "The outlier frames are extracted. They are stored in the subdirectory labeled-data\\mid_light_20230727_150010_635_20230727151009_new.\n",
      "Once you extracted frames for all videos, use 'refine_labels' to manually correct the labels.\n"
     ]
    },
    {
     "name": "stderr",
     "output_type": "stream",
     "text": [
      "/home/linlab/miniconda3/envs/DLC_tf/lib/python3.10/site-packages/deeplabcut/refine_training_dataset/outlier_frames.py:418: FutureWarning: DataFrame.groupby with axis=1 is deprecated. Do `frame.T.groupby(...)` without axis instead.\n",
      "  sum_ = temp_dt.groupby(level=\"bodyparts\", axis=1).sum()\n"
     ]
    },
    {
     "name": "stdout",
     "output_type": "stream",
     "text": [
      "Method  jump  found  29354  putative outlier frames.\n",
      "Do you want to proceed with extracting  20  of those?\n",
      "If this list is very large, perhaps consider changing the parameters (start, stop, p_bound, comparisonbodyparts) or use a different method.\n",
      "Frames from video 20240315_110000_705_20240315132408_new  already extracted (more will be added)!\n",
      "Loading video...\n",
      "Cropping coords: None\n",
      "Duration of video [s]:  2146.9803136469804 , recorded @  29.97 fps!\n",
      "Overall # of frames:  64345 with (cropped) frame dimensions: \n",
      "Kmeans-quantization based extracting of frames from 0.0  seconds to 2146.98  seconds.\n",
      "Extracting and downsampling... 29354  frames from the video.\n"
     ]
    },
    {
     "name": "stderr",
     "output_type": "stream",
     "text": [
      "29354it [40:13, 12.16it/s]\n"
     ]
    },
    {
     "name": "stdout",
     "output_type": "stream",
     "text": [
      "Kmeans clustering ... (this might take a while)\n",
      "Let's select frames indices: [55438, 6833, 34859, 15052, 35272, 60292, 40522, 40977, 59263, 4019, 62803, 23120, 37068, 25020, 7824, 1041, 8188, 36323, 21606, 63935]\n",
      "Attempting to create a symbolic link of the video ...\n",
      "Video /home/linlab/Documents/Matthew/DLC/Szwen_rat_well_train_with_eye-mtw-2025-03-20/videos/20240315_110000_705_20240315132408_new.mp4 already exists. Skipping...\n",
      "New videos were added to the project! Use the function 'extract_frames' to select frames for labeling.\n",
      "The outlier frames are extracted. They are stored in the subdirectory labeled-data\\20240315_110000_705_20240315132408_new.\n",
      "Once you extracted frames for all videos, use 'refine_labels' to manually correct the labels.\n"
     ]
    },
    {
     "name": "stderr",
     "output_type": "stream",
     "text": [
      "/home/linlab/miniconda3/envs/DLC_tf/lib/python3.10/site-packages/deeplabcut/refine_training_dataset/outlier_frames.py:418: FutureWarning: DataFrame.groupby with axis=1 is deprecated. Do `frame.T.groupby(...)` without axis instead.\n",
      "  sum_ = temp_dt.groupby(level=\"bodyparts\", axis=1).sum()\n"
     ]
    },
    {
     "name": "stdout",
     "output_type": "stream",
     "text": [
      "Method  jump  found  44651  putative outlier frames.\n",
      "Do you want to proceed with extracting  20  of those?\n",
      "If this list is very large, perhaps consider changing the parameters (start, stop, p_bound, comparisonbodyparts) or use a different method.\n",
      "Frames from video 20240103_110000_698_20240103123351_new  already extracted (more will be added)!\n",
      "Loading video...\n",
      "Cropping coords: None\n",
      "Duration of video [s]:  2966.966966966967 , recorded @  29.97 fps!\n",
      "Overall # of frames:  88920 with (cropped) frame dimensions: \n",
      "Kmeans-quantization based extracting of frames from 0.0  seconds to 2966.97  seconds.\n",
      "Extracting and downsampling... 44651  frames from the video.\n"
     ]
    },
    {
     "name": "stderr",
     "output_type": "stream",
     "text": [
      "44651it [51:36, 14.42it/s]\n"
     ]
    },
    {
     "name": "stdout",
     "output_type": "stream",
     "text": [
      "Kmeans clustering ... (this might take a while)\n",
      "Let's select frames indices: [87587, 13244, 24453, 36228, 41652, 34282, 71419, 76091, 31244, 5723, 13711, 68224, 49571, 26656, 31401, 12102, 48255, 83782, 5799, 26741]\n",
      "Attempting to create a symbolic link of the video ...\n",
      "Video /home/linlab/Documents/Matthew/DLC/Szwen_rat_well_train_with_eye-mtw-2025-03-20/videos/20240103_110000_698_20240103123351_new.mp4 already exists. Skipping...\n",
      "New videos were added to the project! Use the function 'extract_frames' to select frames for labeling.\n",
      "The outlier frames are extracted. They are stored in the subdirectory labeled-data\\20240103_110000_698_20240103123351_new.\n",
      "Once you extracted frames for all videos, use 'refine_labels' to manually correct the labels.\n"
     ]
    }
   ],
   "source": [
    "#automatic ==true =>without being asked for user feedback.\n",
    "deeplabcut.extract_outlier_frames(config_path, [video_path[0],video_path[2]], outlieralgorithm=\"uncertain\",automatic=True)\n",
    "deeplabcut.extract_outlier_frames(config_path, [video_path[1],video_path[3]], outlieralgorithm=\"jump\",automatic=True)"
   ]
  },
  {
   "cell_type": "code",
   "execution_count": 18,
   "id": "08df7315-edbc-415b-a369-7a0e555ca817",
   "metadata": {},
   "outputs": [
    {
     "name": "stdout",
     "output_type": "stream",
     "text": [
      "scp -r /home/linlab/Documents/Matthew/DLC/Szwen_rat_well_train_with_eye-mtw-2025-03-20 120.126.102.181:/Users/linlab/Documents/Matthew/DLC_label\n",
      "scp -r /Users/linlab/Documents/Matthew/DLC_label/Szwen_rat_well_train_with_eye-mtw-2025-03-20 linlab@120.126.45.88:/home/linlab/Documents/Matthew/DLC\n"
     ]
    }
   ],
   "source": [
    "#transfer video to local\n",
    "####待解決\n",
    "#scp -r config_path[:-11] 120.126.102.181:/Users/linlab/Documents/Matthew/DLC_label\n",
    "print(\"scp -r \"+config_path[:-12]+\" 120.126.102.181:/Users/linlab/Documents/Matthew/DLC_label\")#when start label\n",
    "print(\"scp -r /Users/linlab/Documents/Matthew/DLC_label\"+config_path[34:-12]+\" linlab@120.126.45.88:/home/linlab/Documents/Matthew/DLC\")#when finish label"
   ]
  },
  {
   "cell_type": "code",
   "execution_count": 4,
   "id": "fdcd454e-45ec-4c53-8e42-b7985a6fc911",
   "metadata": {},
   "outputs": [
    {
     "name": "stdout",
     "output_type": "stream",
     "text": [
      "Merged data sets and updated refinement iteration to 1.\n",
      "Now you can create a new training set for the expanded annotated images (use create_training_dataset).\n"
     ]
    }
   ],
   "source": [
    "deeplabcut.merge_datasets(config_path)"
   ]
  },
  {
   "cell_type": "code",
   "execution_count": 5,
   "id": "63b94b23-e39c-42a1-8980-6ec39f5ae4b8",
   "metadata": {},
   "outputs": [
    {
     "name": "stdout",
     "output_type": "stream",
     "text": [
      "The training dataset is successfully created. Use the function 'train_network' to start training. Happy training!\n"
     ]
    },
    {
     "data": {
      "text/plain": [
       "[(0.95,\n",
       "  1,\n",
       "  (array([110, 112, 143,   7,  44, 101, 122,  66,  85,  86, 133,  92,  26,\n",
       "          146, 119,  62,  51,  97, 128,  90,  45,  56,  59,   8,  37,  33,\n",
       "          147,  61,  98, 121, 135,  24,  54,  80,  19,  74, 131,  16,  60,\n",
       "          120,  40,  22,  63, 151, 111, 145, 136,  27, 118,  95,  55, 109,\n",
       "           18, 157,  30,  94,  73, 107,   2, 139,  83,  43,  71,  10, 141,\n",
       "          154,  96,  89, 144, 132, 124,  50, 100, 142,  64, 106, 108,  69,\n",
       "           49,  48,  13, 158,  23, 113,  20,  15,  78,  52,  76,   3, 159,\n",
       "           93,   6,  68,  75,  84, 129,  12, 123,  14, 125,  91, 137,  46,\n",
       "           11, 102,  35,  57,  41, 156,  65,   1, 130, 148,  42, 105,   4,\n",
       "          138,  17, 116, 104,  38,   5,  53, 153, 126,   0,  34,  28, 114,\n",
       "           31, 134, 127, 149,  32,  29,  99,  82,  79, 115, 155,  72,  77,\n",
       "           25,  81, 150, 152,  39,  58, 140,  88,  70]),\n",
       "   array([ 87,  36,  21,   9, 103,  67, 117,  47])))]"
      ]
     },
     "execution_count": 5,
     "metadata": {},
     "output_type": "execute_result"
    }
   ],
   "source": [
    "deeplabcut.create_training_dataset(config_path)"
   ]
  },
  {
   "cell_type": "code",
   "execution_count": null,
   "id": "81d04e03-331d-4aa0-a737-07d16e167877",
   "metadata": {
    "scrolled": true
   },
   "outputs": [
    {
     "name": "stderr",
     "output_type": "stream",
     "text": [
      "Config:\n",
      "{'all_joints': [[0], [1], [2], [3], [4], [5], [6], [7], [8], [9], [10]],\n",
      " 'all_joints_names': ['nose',\n",
      "                      'Leye',\n",
      "                      'Reye',\n",
      "                      'Lear',\n",
      "                      'Rear',\n",
      "                      'body1',\n",
      "                      'body2',\n",
      "                      'bottom',\n",
      "                      'Llight',\n",
      "                      'Mlight',\n",
      "                      'Rlight'],\n",
      " 'alpha_r': 0.02,\n",
      " 'apply_prob': 0.5,\n",
      " 'batch_size': 1,\n",
      " 'contrast': {'clahe': True,\n",
      "              'claheratio': 0.1,\n",
      "              'histeq': True,\n",
      "              'histeqratio': 0.1},\n",
      " 'convolution': {'edge': False,\n",
      "                 'emboss': {'alpha': [0.0, 1.0], 'strength': [0.5, 1.5]},\n",
      "                 'embossratio': 0.1,\n",
      "                 'sharpen': False,\n",
      "                 'sharpenratio': 0.3},\n",
      " 'crop_pad': 0,\n",
      " 'cropratio': 0.4,\n",
      " 'dataset': 'training-datasets/iteration-1/UnaugmentedDataSet_Szwen_rat_well_train_with_eyeMar20/Szwen_rat_well_train_with_eye_mtw95shuffle1.mat',\n",
      " 'dataset_type': 'default',\n",
      " 'decay_steps': 30000,\n",
      " 'deterministic': False,\n",
      " 'display_iters': 1000,\n",
      " 'fg_fraction': 0.25,\n",
      " 'global_scale': 0.8,\n",
      " 'init_weights': '/home/linlab/miniconda3/envs/DLC_tf/lib/python3.10/site-packages/deeplabcut/pose_estimation_tensorflow/models/pretrained/resnet_v1_50.ckpt',\n",
      " 'intermediate_supervision': False,\n",
      " 'intermediate_supervision_layer': 12,\n",
      " 'location_refinement': True,\n",
      " 'locref_huber_loss': True,\n",
      " 'locref_loss_weight': 0.05,\n",
      " 'locref_stdev': 7.2801,\n",
      " 'log_dir': 'log',\n",
      " 'lr_init': 0.0005,\n",
      " 'max_input_size': 1500,\n",
      " 'mean_pixel': [123.68, 116.779, 103.939],\n",
      " 'metadataset': 'training-datasets/iteration-1/UnaugmentedDataSet_Szwen_rat_well_train_with_eyeMar20/Documentation_data-Szwen_rat_well_train_with_eye_95shuffle1.pickle',\n",
      " 'min_input_size': 64,\n",
      " 'mirror': False,\n",
      " 'multi_stage': False,\n",
      " 'multi_step': [[0.005, 10000],\n",
      "                [0.02, 430000],\n",
      "                [0.002, 730000],\n",
      "                [0.001, 1030000]],\n",
      " 'net_type': 'resnet_50',\n",
      " 'num_joints': 11,\n",
      " 'optimizer': 'sgd',\n",
      " 'pairwise_huber_loss': False,\n",
      " 'pairwise_predict': False,\n",
      " 'partaffinityfield_predict': False,\n",
      " 'pos_dist_thresh': 17,\n",
      " 'project_path': '/home/linlab/Documents/Matthew/DLC/Szwen_rat_well_train_with_eye-mtw-2025-03-20',\n",
      " 'regularize': False,\n",
      " 'rotation': 25,\n",
      " 'rotratio': 0.4,\n",
      " 'save_iters': 50000,\n",
      " 'scale_jitter_lo': 0.5,\n",
      " 'scale_jitter_up': 1.25,\n",
      " 'scoremap_dir': 'test',\n",
      " 'shuffle': True,\n",
      " 'snapshot_prefix': '/home/linlab/Documents/Matthew/DLC/Szwen_rat_well_train_with_eye-mtw-2025-03-20/dlc-models/iteration-1/Szwen_rat_well_train_with_eyeMar20-trainset95shuffle1/train/snapshot',\n",
      " 'stride': 8.0,\n",
      " 'weigh_negatives': False,\n",
      " 'weigh_only_present_joints': False,\n",
      " 'weigh_part_predictions': False,\n",
      " 'weight_decay': 0.0001}\n"
     ]
    },
    {
     "name": "stdout",
     "output_type": "stream",
     "text": [
      "Selecting single-animal trainer\n",
      "Batch Size is 1\n"
     ]
    },
    {
     "name": "stderr",
     "output_type": "stream",
     "text": [
      "/home/linlab/miniconda3/envs/DLC_tf/lib/python3.10/site-packages/tensorflow/python/keras/engine/base_layer_v1.py:1694: UserWarning: `layer.apply` is deprecated and will be removed in a future version. Please use `layer.__call__` method instead.\n",
      "  warnings.warn('`layer.apply` is deprecated and '\n",
      "2025-03-21 22:29:59.500426: I tensorflow/core/platform/cpu_feature_guard.cc:193] This TensorFlow binary is optimized with oneAPI Deep Neural Network Library (oneDNN) to use the following CPU instructions in performance-critical operations:  SSE4.1 SSE4.2 AVX AVX2 AVX512F AVX512_VNNI FMA\n",
      "To enable them in other operations, rebuild TensorFlow with the appropriate compiler flags.\n",
      "2025-03-21 22:29:59.722617: W tensorflow/core/common_runtime/gpu/gpu_bfc_allocator.cc:42] Overriding orig_value setting because the TF_FORCE_GPU_ALLOW_GROWTH environment variable is set. Original config value was 0.\n",
      "2025-03-21 22:29:59.722670: I tensorflow/core/common_runtime/gpu/gpu_device.cc:1613] Created device /job:localhost/replica:0/task:0/device:GPU:0 with 26246 MB memory:  -> device: 0, name: Tesla V100S-PCIE-32GB, pci bus id: 0000:3b:00.0, compute capability: 7.0\n",
      "2025-03-21 22:29:59.723604: W tensorflow/core/common_runtime/gpu/gpu_bfc_allocator.cc:42] Overriding orig_value setting because the TF_FORCE_GPU_ALLOW_GROWTH environment variable is set. Original config value was 0.\n",
      "2025-03-21 22:29:59.723636: I tensorflow/core/common_runtime/gpu/gpu_device.cc:1613] Created device /job:localhost/replica:0/task:0/device:GPU:1 with 30830 MB memory:  -> device: 1, name: Tesla V100S-PCIE-32GB, pci bus id: 0000:d8:00.0, compute capability: 7.0\n"
     ]
    },
    {
     "name": "stdout",
     "output_type": "stream",
     "text": [
      "Loading ImageNet-pretrained resnet_50\n"
     ]
    },
    {
     "name": "stderr",
     "output_type": "stream",
     "text": [
      "2025-03-21 22:30:00.098013: I tensorflow/core/common_runtime/gpu/gpu_device.cc:1613] Created device /job:localhost/replica:0/task:0/device:GPU:0 with 26246 MB memory:  -> device: 0, name: Tesla V100S-PCIE-32GB, pci bus id: 0000:3b:00.0, compute capability: 7.0\n",
      "2025-03-21 22:30:00.098451: I tensorflow/core/common_runtime/gpu/gpu_device.cc:1613] Created device /job:localhost/replica:0/task:0/device:GPU:1 with 30830 MB memory:  -> device: 1, name: Tesla V100S-PCIE-32GB, pci bus id: 0000:d8:00.0, compute capability: 7.0\n",
      "2025-03-21 22:30:00.871180: I tensorflow/compiler/mlir/mlir_graph_optimization_pass.cc:357] MLIR V1 optimization pass is not enabled\n",
      "2025-03-21 22:30:02.213588: W tensorflow/c/c_api.cc:291] Operation '{name:'pose/locref_pred/block4/biases/Momentum/Assign' id:6191 op device:{requested: '', assigned: ''} def:{{{node pose/locref_pred/block4/biases/Momentum/Assign}} = AssignVariableOp[_has_manual_control_dependencies=true, dtype=DT_FLOAT, validate_shape=false](pose/locref_pred/block4/biases/Momentum, pose/locref_pred/block4/biases/Momentum/Initializer/zeros)}}' was changed by setting attribute after it was run by a session. This mutation will have no effect, and will trigger an error in the future. Either don't modify nodes after running them or create a new session.\n"
     ]
    },
    {
     "name": "stdout",
     "output_type": "stream",
     "text": [
      "Training parameter:\n",
      "{'stride': 8.0, 'weigh_part_predictions': False, 'weigh_negatives': False, 'fg_fraction': 0.25, 'mean_pixel': [123.68, 116.779, 103.939], 'shuffle': True, 'snapshot_prefix': '/home/linlab/Documents/Matthew/DLC/Szwen_rat_well_train_with_eye-mtw-2025-03-20/dlc-models/iteration-1/Szwen_rat_well_train_with_eyeMar20-trainset95shuffle1/train/snapshot', 'log_dir': 'log', 'global_scale': 0.8, 'location_refinement': True, 'locref_stdev': 7.2801, 'locref_loss_weight': 0.05, 'locref_huber_loss': True, 'optimizer': 'sgd', 'intermediate_supervision': False, 'intermediate_supervision_layer': 12, 'regularize': False, 'weight_decay': 0.0001, 'crop_pad': 0, 'scoremap_dir': 'test', 'batch_size': 1, 'dataset_type': 'default', 'deterministic': False, 'mirror': False, 'pairwise_huber_loss': False, 'weigh_only_present_joints': False, 'partaffinityfield_predict': False, 'pairwise_predict': False, 'all_joints': [[0], [1], [2], [3], [4], [5], [6], [7], [8], [9], [10]], 'all_joints_names': ['nose', 'Leye', 'Reye', 'Lear', 'Rear', 'body1', 'body2', 'bottom', 'Llight', 'Mlight', 'Rlight'], 'alpha_r': 0.02, 'apply_prob': 0.5, 'contrast': {'clahe': True, 'claheratio': 0.1, 'histeq': True, 'histeqratio': 0.1, 'gamma': False, 'sigmoid': False, 'log': False, 'linear': False}, 'convolution': {'edge': False, 'emboss': {'alpha': [0.0, 1.0], 'strength': [0.5, 1.5]}, 'embossratio': 0.1, 'sharpen': False, 'sharpenratio': 0.3}, 'cropratio': 0.4, 'dataset': 'training-datasets/iteration-1/UnaugmentedDataSet_Szwen_rat_well_train_with_eyeMar20/Szwen_rat_well_train_with_eye_mtw95shuffle1.mat', 'decay_steps': 30000, 'display_iters': 1000, 'init_weights': '/home/linlab/miniconda3/envs/DLC_tf/lib/python3.10/site-packages/deeplabcut/pose_estimation_tensorflow/models/pretrained/resnet_v1_50.ckpt', 'lr_init': 0.0005, 'max_input_size': 1500, 'metadataset': 'training-datasets/iteration-1/UnaugmentedDataSet_Szwen_rat_well_train_with_eyeMar20/Documentation_data-Szwen_rat_well_train_with_eye_95shuffle1.pickle', 'min_input_size': 64, 'multi_stage': False, 'multi_step': [[0.005, 10000], [0.02, 430000], [0.002, 730000], [0.001, 1030000]], 'net_type': 'resnet_50', 'num_joints': 11, 'pos_dist_thresh': 17, 'project_path': '/home/linlab/Documents/Matthew/DLC/Szwen_rat_well_train_with_eye-mtw-2025-03-20', 'rotation': 25, 'rotratio': 0.4, 'save_iters': 50000, 'scale_jitter_lo': 0.5, 'scale_jitter_up': 1.25, 'covering': True, 'elastic_transform': True, 'motion_blur': True, 'motion_blur_params': {'k': 7, 'angle': (-90, 90)}}\n",
      "Starting training....\n"
     ]
    },
    {
     "name": "stderr",
     "output_type": "stream",
     "text": [
      "2025-03-21 22:30:04.577069: I tensorflow/compiler/xla/stream_executor/cuda/cuda_dnn.cc:428] Loaded cuDNN version 8907\n",
      "2025-03-21 22:30:04.671073: I tensorflow/tsl/platform/default/subprocess.cc:304] Start cannot spawn child process: No such file or directory\n",
      "2025-03-21 22:30:04.672578: I tensorflow/tsl/platform/default/subprocess.cc:304] Start cannot spawn child process: No such file or directory\n",
      "2025-03-21 22:30:04.672595: W tensorflow/compiler/xla/stream_executor/gpu/asm_compiler.cc:85] Couldn't get ptxas version string: INTERNAL: Couldn't invoke ptxas --version\n",
      "2025-03-21 22:30:04.674567: I tensorflow/tsl/platform/default/subprocess.cc:304] Start cannot spawn child process: No such file or directory\n",
      "2025-03-21 22:30:04.674641: W tensorflow/compiler/xla/stream_executor/gpu/redzone_allocator.cc:318] INTERNAL: Failed to launch ptxas\n",
      "Relying on driver to perform ptx compilation. \n",
      "Modify $PATH to customize ptxas location.\n",
      "This message will be only logged once.\n",
      "iteration: 1000 loss: 0.0292 lr: 0.005\n",
      "iteration: 2000 loss: 0.0200 lr: 0.005\n",
      "iteration: 3000 loss: 0.0173 lr: 0.005\n",
      "iteration: 4000 loss: 0.0154 lr: 0.005\n",
      "iteration: 5000 loss: 0.0141 lr: 0.005\n",
      "iteration: 6000 loss: 0.0128 lr: 0.005\n",
      "iteration: 7000 loss: 0.0121 lr: 0.005\n",
      "iteration: 8000 loss: 0.0119 lr: 0.005\n",
      "iteration: 9000 loss: 0.0111 lr: 0.005\n",
      "iteration: 10000 loss: 0.0106 lr: 0.005\n",
      "iteration: 11000 loss: 0.0123 lr: 0.02\n",
      "iteration: 12000 loss: 0.0110 lr: 0.02\n",
      "iteration: 21000 loss: 0.0068 lr: 0.02\n",
      "iteration: 22000 loss: 0.0066 lr: 0.02\n",
      "iteration: 23000 loss: 0.0063 lr: 0.02\n",
      "iteration: 24000 loss: 0.0059 lr: 0.02\n",
      "iteration: 25000 loss: 0.0060 lr: 0.02\n",
      "iteration: 26000 loss: 0.0057 lr: 0.02\n",
      "iteration: 27000 loss: 0.0056 lr: 0.02\n",
      "iteration: 30000 loss: 0.0051 lr: 0.02\n",
      "iteration: 31000 loss: 0.0050 lr: 0.02\n",
      "iteration: 32000 loss: 0.0050 lr: 0.02\n",
      "iteration: 33000 loss: 0.0049 lr: 0.02\n",
      "iteration: 34000 loss: 0.0048 lr: 0.02\n",
      "iteration: 35000 loss: 0.0047 lr: 0.02\n",
      "iteration: 36000 loss: 0.0046 lr: 0.02\n",
      "iteration: 37000 loss: 0.0046 lr: 0.02\n",
      "iteration: 38000 loss: 0.0044 lr: 0.02\n",
      "iteration: 39000 loss: 0.0044 lr: 0.02\n",
      "iteration: 40000 loss: 0.0043 lr: 0.02\n",
      "iteration: 41000 loss: 0.0043 lr: 0.02\n",
      "iteration: 42000 loss: 0.0043 lr: 0.02\n",
      "iteration: 43000 loss: 0.0041 lr: 0.02\n"
     ]
    }
   ],
   "source": [
    "deeplabcut.train_network(config_path,allow_growth=True)"
   ]
  },
  {
   "cell_type": "code",
   "execution_count": 13,
   "id": "b2afb3a4-3599-44e7-9a95-d265cfa44542",
   "metadata": {},
   "outputs": [
    {
     "name": "stdout",
     "output_type": "stream",
     "text": [
      "mv: cannot stat 'Szwen_rat_well_train-mtw-2025-03-11_tf': No such file or directory\n"
     ]
    }
   ],
   "source": [
    "! mv \"Szwen_rat_well_train-mtw-2025-03-11_tf\" \"Szwen_rat_well_train-mtw-2025-03-11_tf_unrefine_label\""
   ]
  },
  {
   "cell_type": "code",
   "execution_count": 1,
   "id": "6427f159-8005-4b31-b190-f30bec58ec77",
   "metadata": {},
   "outputs": [
    {
     "name": "stderr",
     "output_type": "stream",
     "text": [
      "2025-03-20 17:50:08.647438: I tensorflow/core/platform/cpu_feature_guard.cc:193] This TensorFlow binary is optimized with oneAPI Deep Neural Network Library (oneDNN) to use the following CPU instructions in performance-critical operations:  SSE4.1 SSE4.2 AVX AVX2 AVX512F AVX512_VNNI FMA\n",
      "To enable them in other operations, rebuild TensorFlow with the appropriate compiler flags.\n",
      "2025-03-20 17:50:08.737509: I tensorflow/core/util/port.cc:104] oneDNN custom operations are on. You may see slightly different numerical results due to floating-point round-off errors from different computation orders. To turn them off, set the environment variable `TF_ENABLE_ONEDNN_OPTS=0`.\n"
     ]
    }
   ],
   "source": [
    "import tensorflow as tf\n",
    "gpus=tf.config.list_physical_devices(\"GPU\")\n",
    "tf.config.set_visible_devices(gpus[1], \"GPU\")"
   ]
  },
  {
   "cell_type": "code",
   "execution_count": null,
   "id": "93a10a10-9c51-4bda-8203-f4ca881b5f67",
   "metadata": {},
   "outputs": [],
   "source": []
  }
 ],
 "metadata": {
  "kernelspec": {
   "display_name": "Python 3 (ipykernel)",
   "language": "python",
   "name": "python3"
  },
  "language_info": {
   "codemirror_mode": {
    "name": "ipython",
    "version": 3
   },
   "file_extension": ".py",
   "mimetype": "text/x-python",
   "name": "python",
   "nbconvert_exporter": "python",
   "pygments_lexer": "ipython3",
   "version": "3.10.16"
  }
 },
 "nbformat": 4,
 "nbformat_minor": 5
}
